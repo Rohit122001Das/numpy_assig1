{
 "cells": [
  {
   "cell_type": "markdown",
   "id": "c04aab28-6a3f-46c4-902c-80545a0df114",
   "metadata": {},
   "source": [
    "# Question no.1"
   ]
  },
  {
   "cell_type": "code",
   "execution_count": 57,
   "id": "f3d76ea7-f3c3-439f-b3ce-ed8eff983c3b",
   "metadata": {},
   "outputs": [],
   "source": [
    "import numpy as np"
   ]
  },
  {
   "cell_type": "code",
   "execution_count": 58,
   "id": "f846f2d7-cbe6-41d5-99ab-f88434ee02ae",
   "metadata": {},
   "outputs": [],
   "source": [
    "list_ = [ '1' , '2', '3' , '4' , '5' ]"
   ]
  },
  {
   "cell_type": "code",
   "execution_count": 59,
   "id": "0015b42e-65a0-4c85-b2a8-75aa93cbfcaf",
   "metadata": {},
   "outputs": [
    {
     "data": {
      "text/plain": [
       "['1', '2', '3', '4', '5']"
      ]
     },
     "execution_count": 59,
     "metadata": {},
     "output_type": "execute_result"
    }
   ],
   "source": [
    "list_"
   ]
  },
  {
   "cell_type": "code",
   "execution_count": 60,
   "id": "c6264773-b523-446d-9e8b-8f27c0dc3f0a",
   "metadata": {},
   "outputs": [
    {
     "data": {
      "text/plain": [
       "list"
      ]
     },
     "execution_count": 60,
     "metadata": {},
     "output_type": "execute_result"
    }
   ],
   "source": [
    "type(list_)"
   ]
  },
  {
   "cell_type": "code",
   "execution_count": 61,
   "id": "33b9c305-2136-480e-b4d0-260298dc5048",
   "metadata": {},
   "outputs": [
    {
     "data": {
      "text/plain": [
       "'1'"
      ]
     },
     "execution_count": 61,
     "metadata": {},
     "output_type": "execute_result"
    }
   ],
   "source": [
    "list_[0]"
   ]
  },
  {
   "cell_type": "code",
   "execution_count": 62,
   "id": "c20aac1f-b0cd-4b63-974f-e08c3f2b9895",
   "metadata": {},
   "outputs": [
    {
     "data": {
      "text/plain": [
       "str"
      ]
     },
     "execution_count": 62,
     "metadata": {},
     "output_type": "execute_result"
    }
   ],
   "source": [
    "type(list_[0])   # data type of variables list_"
   ]
  },
  {
   "cell_type": "code",
   "execution_count": 63,
   "id": "70bb64d5-43ce-4205-a133-11610bca64f6",
   "metadata": {},
   "outputs": [],
   "source": [
    "array_list = np.array(object = list_)"
   ]
  },
  {
   "cell_type": "code",
   "execution_count": 64,
   "id": "fe13ffdb-ada7-4b98-9fa2-cfd9cbc2861b",
   "metadata": {},
   "outputs": [
    {
     "data": {
      "text/plain": [
       "array(['1', '2', '3', '4', '5'], dtype='<U1')"
      ]
     },
     "execution_count": 64,
     "metadata": {},
     "output_type": "execute_result"
    }
   ],
   "source": [
    "array_list"
   ]
  },
  {
   "cell_type": "code",
   "execution_count": 65,
   "id": "04f3cb58-c029-4eb4-8647-2ddb52975cad",
   "metadata": {},
   "outputs": [
    {
     "data": {
      "text/plain": [
       "numpy.ndarray"
      ]
     },
     "execution_count": 65,
     "metadata": {},
     "output_type": "execute_result"
    }
   ],
   "source": [
    "type(array_list)"
   ]
  },
  {
   "cell_type": "code",
   "execution_count": 66,
   "id": "69ed956d-e42f-4fe8-94ff-bddca99612b6",
   "metadata": {},
   "outputs": [
    {
     "data": {
      "text/plain": [
       "'1'"
      ]
     },
     "execution_count": 66,
     "metadata": {},
     "output_type": "execute_result"
    }
   ],
   "source": [
    "array_list[0]"
   ]
  },
  {
   "cell_type": "code",
   "execution_count": 67,
   "id": "c77f3fad-3d69-45c2-a0ab-460852a811f8",
   "metadata": {},
   "outputs": [
    {
     "data": {
      "text/plain": [
       "numpy.str_"
      ]
     },
     "execution_count": 67,
     "metadata": {},
     "output_type": "execute_result"
    }
   ],
   "source": [
    "type(array_list[0]) #data type of variables array_list"
   ]
  },
  {
   "cell_type": "markdown",
   "id": "a3f1e00b-0152-4649-965a-76b747703cd6",
   "metadata": {},
   "source": [
    "# Question no.2"
   ]
  },
  {
   "cell_type": "code",
   "execution_count": 68,
   "id": "72c078f4-6332-4750-be43-d468b7876a72",
   "metadata": {},
   "outputs": [
    {
     "data": {
      "text/plain": [
       "str"
      ]
     },
     "execution_count": 68,
     "metadata": {},
     "output_type": "execute_result"
    }
   ],
   "source": [
    "type(list_[1])"
   ]
  },
  {
   "cell_type": "code",
   "execution_count": 72,
   "id": "5426d09e-d62c-422e-98e0-82c523cfaf92",
   "metadata": {},
   "outputs": [
    {
     "name": "stdout",
     "output_type": "stream",
     "text": [
      "<class 'list'>\n",
      "<class 'list'>\n",
      "<class 'list'>\n",
      "<class 'list'>\n",
      "<class 'list'>\n"
     ]
    }
   ],
   "source": [
    "for i in list_:\n",
    "    print(type([i]))"
   ]
  },
  {
   "cell_type": "code",
   "execution_count": 70,
   "id": "90b46d53-31c5-42ca-81b9-6bc65a3a9a97",
   "metadata": {},
   "outputs": [
    {
     "data": {
      "text/plain": [
       "numpy.str_"
      ]
     },
     "execution_count": 70,
     "metadata": {},
     "output_type": "execute_result"
    }
   ],
   "source": [
    "type(array_list[0])"
   ]
  },
  {
   "cell_type": "code",
   "execution_count": 73,
   "id": "cc391eb9-85c8-4493-b718-0a3f5e3094bf",
   "metadata": {},
   "outputs": [
    {
     "name": "stdout",
     "output_type": "stream",
     "text": [
      "<class 'list'>\n",
      "<class 'list'>\n",
      "<class 'list'>\n",
      "<class 'list'>\n",
      "<class 'list'>\n"
     ]
    }
   ],
   "source": [
    "for i in array_list:\n",
    "    print(type([i]))\n",
    "    "
   ]
  },
  {
   "cell_type": "markdown",
   "id": "c3120720-1769-47a4-bfb6-937f9cf24733",
   "metadata": {},
   "source": [
    "# Question no. 3"
   ]
  },
  {
   "cell_type": "code",
   "execution_count": 74,
   "id": "1f0c0b00-cad3-4080-bbb5-491c53f20797",
   "metadata": {},
   "outputs": [],
   "source": [
    "array_list = np.array(object = list_, dtype = int)"
   ]
  },
  {
   "cell_type": "code",
   "execution_count": 75,
   "id": "ef0c03f7-1f51-4f0f-a806-6855d274af7d",
   "metadata": {},
   "outputs": [
    {
     "data": {
      "text/plain": [
       "array([1, 2, 3, 4, 5])"
      ]
     },
     "execution_count": 75,
     "metadata": {},
     "output_type": "execute_result"
    }
   ],
   "source": [
    "array_list"
   ]
  },
  {
   "cell_type": "code",
   "execution_count": 76,
   "id": "e2c95057-cc01-44f5-8893-6588877c9a1a",
   "metadata": {},
   "outputs": [
    {
     "data": {
      "text/plain": [
       "'1'"
      ]
     },
     "execution_count": 76,
     "metadata": {},
     "output_type": "execute_result"
    }
   ],
   "source": [
    "list_[0]"
   ]
  },
  {
   "cell_type": "code",
   "execution_count": 77,
   "id": "191c3886-1d79-460e-8c63-76886a174357",
   "metadata": {},
   "outputs": [
    {
     "data": {
      "text/plain": [
       "str"
      ]
     },
     "execution_count": 77,
     "metadata": {},
     "output_type": "execute_result"
    }
   ],
   "source": [
    "type(list_[0])"
   ]
  },
  {
   "cell_type": "code",
   "execution_count": 82,
   "id": "cc462397-72e6-45f9-a11a-57c97d48fc03",
   "metadata": {},
   "outputs": [
    {
     "name": "stdout",
     "output_type": "stream",
     "text": [
      "type['1']\n",
      "type['2']\n",
      "type['3']\n",
      "type['4']\n",
      "type['5']\n"
     ]
    }
   ],
   "source": [
    "for i in list_:\n",
    "    print(type[i])"
   ]
  },
  {
   "cell_type": "code",
   "execution_count": 78,
   "id": "1cdbdfca-c04c-4d18-8b73-462a288bd0c7",
   "metadata": {},
   "outputs": [
    {
     "data": {
      "text/plain": [
       "1"
      ]
     },
     "execution_count": 78,
     "metadata": {},
     "output_type": "execute_result"
    }
   ],
   "source": [
    "array_list[0]"
   ]
  },
  {
   "cell_type": "code",
   "execution_count": 79,
   "id": "b02c7a12-2fc5-4480-9a9d-5dd4664ec02c",
   "metadata": {},
   "outputs": [
    {
     "data": {
      "text/plain": [
       "numpy.int64"
      ]
     },
     "execution_count": 79,
     "metadata": {},
     "output_type": "execute_result"
    }
   ],
   "source": [
    "type(array_list[0])"
   ]
  },
  {
   "cell_type": "code",
   "execution_count": 83,
   "id": "c016bc71-f913-44c9-a03e-7c6a829c5cab",
   "metadata": {},
   "outputs": [
    {
     "name": "stdout",
     "output_type": "stream",
     "text": [
      "type[1]\n",
      "type[2]\n",
      "type[3]\n",
      "type[4]\n",
      "type[5]\n"
     ]
    }
   ],
   "source": [
    "for i in array_list:\n",
    "    print(type[i])"
   ]
  },
  {
   "cell_type": "markdown",
   "id": "e98641a7-9495-4f4f-bce3-90463ed6816d",
   "metadata": {},
   "source": [
    "# Question no.4"
   ]
  },
  {
   "cell_type": "code",
   "execution_count": 84,
   "id": "2eb9e21c-d94b-47bc-b747-4827de7fd334",
   "metadata": {},
   "outputs": [],
   "source": [
    "num_list = [ [ 1 , 2 , 3 ] , [ 4 , 5 , 6 ] ]"
   ]
  },
  {
   "cell_type": "code",
   "execution_count": 85,
   "id": "cdfd1015-48c8-4acd-ab37-b40e19ace5bf",
   "metadata": {},
   "outputs": [],
   "source": [
    "num_array = np.array(object = num_list)"
   ]
  },
  {
   "cell_type": "code",
   "execution_count": 86,
   "id": "bc5eb68b-a135-4203-9524-508a88697b09",
   "metadata": {},
   "outputs": [
    {
     "data": {
      "text/plain": [
       "array([[1, 2, 3],\n",
       "       [4, 5, 6]])"
      ]
     },
     "execution_count": 86,
     "metadata": {},
     "output_type": "execute_result"
    }
   ],
   "source": [
    "num_array"
   ]
  },
  {
   "cell_type": "code",
   "execution_count": 87,
   "id": "7256cfda-22f1-4c08-9c3f-6dc0f4d59e75",
   "metadata": {},
   "outputs": [
    {
     "data": {
      "text/plain": [
       "(2, 3)"
      ]
     },
     "execution_count": 87,
     "metadata": {},
     "output_type": "execute_result"
    }
   ],
   "source": [
    "num_array.shape"
   ]
  },
  {
   "cell_type": "code",
   "execution_count": 88,
   "id": "f5e7db9e-6533-433e-8ea9-bc4d61593f8c",
   "metadata": {},
   "outputs": [
    {
     "data": {
      "text/plain": [
       "6"
      ]
     },
     "execution_count": 88,
     "metadata": {},
     "output_type": "execute_result"
    }
   ],
   "source": [
    "num_array.size"
   ]
  },
  {
   "cell_type": "markdown",
   "id": "759e2a1e-1f43-4adc-855b-dc45bdd1bdd8",
   "metadata": {},
   "source": [
    "# Qutestion no.5"
   ]
  },
  {
   "cell_type": "code",
   "execution_count": 97,
   "id": "8614cbf3-8256-4685-8688-e241860af68a",
   "metadata": {},
   "outputs": [],
   "source": [
    "import numpy as np"
   ]
  },
  {
   "cell_type": "code",
   "execution_count": 103,
   "id": "824279b7-e393-4b88-bfa9-a8e2e415748e",
   "metadata": {},
   "outputs": [
    {
     "data": {
      "text/plain": [
       "array([[0., 0., 0.],\n",
       "       [0., 0., 0.],\n",
       "       [0., 0., 0.]])"
      ]
     },
     "execution_count": 103,
     "metadata": {},
     "output_type": "execute_result"
    }
   ],
   "source": [
    "np.zeros((3,3))"
   ]
  },
  {
   "cell_type": "markdown",
   "id": "9f1dc635-8ca0-4f90-8f20-63dfebd82ece",
   "metadata": {},
   "source": [
    "# Qutetion no.6"
   ]
  },
  {
   "cell_type": "code",
   "execution_count": 106,
   "id": "9a7ef6f1-353c-450d-aba8-a5d5215b1257",
   "metadata": {},
   "outputs": [
    {
     "data": {
      "text/plain": [
       "array([[1., 0., 0., 0., 0.],\n",
       "       [0., 1., 0., 0., 0.],\n",
       "       [0., 0., 1., 0., 0.],\n",
       "       [0., 0., 0., 1., 0.],\n",
       "       [0., 0., 0., 0., 1.]])"
      ]
     },
     "execution_count": 106,
     "metadata": {},
     "output_type": "execute_result"
    }
   ],
   "source": [
    "np.eye(5)"
   ]
  },
  {
   "cell_type": "code",
   "execution_count": null,
   "id": "c28875b9-5e91-4f5f-bee5-470e7089b29c",
   "metadata": {},
   "outputs": [],
   "source": []
  }
 ],
 "metadata": {
  "kernelspec": {
   "display_name": "Python 3 (ipykernel)",
   "language": "python",
   "name": "python3"
  },
  "language_info": {
   "codemirror_mode": {
    "name": "ipython",
    "version": 3
   },
   "file_extension": ".py",
   "mimetype": "text/x-python",
   "name": "python",
   "nbconvert_exporter": "python",
   "pygments_lexer": "ipython3",
   "version": "3.10.6"
  }
 },
 "nbformat": 4,
 "nbformat_minor": 5
}
